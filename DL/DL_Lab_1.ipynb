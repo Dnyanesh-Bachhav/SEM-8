{
 "cells": [
  {
   "cell_type": "code",
   "execution_count": 22,
   "id": "dec08729",
   "metadata": {
    "executionInfo": {
     "elapsed": 3726,
     "status": "ok",
     "timestamp": 1685034050569,
     "user": {
      "displayName": "TE_B_52_Siddesh Patankar",
      "userId": "08734077620444832225"
     },
     "user_tz": -330
    },
    "id": "dec08729"
   },
   "outputs": [],
   "source": [
    "import tensorflow as tf\n",
    "import pandas as pd\n",
    "from tensorflow.keras.datasets import boston_housing\n",
    "from sklearn import preprocessing\n",
    "import matplotlib.pyplot as plt"
   ]
  },
  {
   "cell_type": "code",
   "execution_count": 6,
   "id": "d857ed5f",
   "metadata": {
    "colab": {
     "base_uri": "https://localhost:8080/"
    },
    "executionInfo": {
     "elapsed": 1222,
     "status": "ok",
     "timestamp": 1685034279071,
     "user": {
      "displayName": "TE_B_52_Siddesh Patankar",
      "userId": "08734077620444832225"
     },
     "user_tz": -330
    },
    "id": "d857ed5f",
    "outputId": "c14a5e50-a093-4c05-a7bb-131de20f8c70"
   },
   "outputs": [],
   "source": [
    "(train_x,train_y),(test_x,test_y) = boston_housing.load_data()"
   ]
  },
  {
   "cell_type": "code",
   "execution_count": 7,
   "id": "6a7f0219",
   "metadata": {
    "colab": {
     "base_uri": "https://localhost:8080/"
    },
    "executionInfo": {
     "elapsed": 750,
     "status": "ok",
     "timestamp": 1685034282170,
     "user": {
      "displayName": "TE_B_52_Siddesh Patankar",
      "userId": "08734077620444832225"
     },
     "user_tz": -330
    },
    "id": "6a7f0219",
    "outputId": "5db99bb9-6f24-4ae2-e8d9-eea94dd852b0"
   },
   "outputs": [
    {
     "data": {
      "text/plain": [
       "((array([[1.23247e+00, 0.00000e+00, 8.14000e+00, ..., 2.10000e+01,\n",
       "          3.96900e+02, 1.87200e+01],\n",
       "         [2.17700e-02, 8.25000e+01, 2.03000e+00, ..., 1.47000e+01,\n",
       "          3.95380e+02, 3.11000e+00],\n",
       "         [4.89822e+00, 0.00000e+00, 1.81000e+01, ..., 2.02000e+01,\n",
       "          3.75520e+02, 3.26000e+00],\n",
       "         ...,\n",
       "         [3.46600e-02, 3.50000e+01, 6.06000e+00, ..., 1.69000e+01,\n",
       "          3.62250e+02, 7.83000e+00],\n",
       "         [2.14918e+00, 0.00000e+00, 1.95800e+01, ..., 1.47000e+01,\n",
       "          2.61950e+02, 1.57900e+01],\n",
       "         [1.43900e-02, 6.00000e+01, 2.93000e+00, ..., 1.56000e+01,\n",
       "          3.76700e+02, 4.38000e+00]]),\n",
       "  array([15.2, 42.3, 50. , 21.1, 17.7, 18.5, 11.3, 15.6, 15.6, 14.4, 12.1,\n",
       "         17.9, 23.1, 19.9, 15.7,  8.8, 50. , 22.5, 24.1, 27.5, 10.9, 30.8,\n",
       "         32.9, 24. , 18.5, 13.3, 22.9, 34.7, 16.6, 17.5, 22.3, 16.1, 14.9,\n",
       "         23.1, 34.9, 25. , 13.9, 13.1, 20.4, 20. , 15.2, 24.7, 22.2, 16.7,\n",
       "         12.7, 15.6, 18.4, 21. , 30.1, 15.1, 18.7,  9.6, 31.5, 24.8, 19.1,\n",
       "         22. , 14.5, 11. , 32. , 29.4, 20.3, 24.4, 14.6, 19.5, 14.1, 14.3,\n",
       "         15.6, 10.5,  6.3, 19.3, 19.3, 13.4, 36.4, 17.8, 13.5, 16.5,  8.3,\n",
       "         14.3, 16. , 13.4, 28.6, 43.5, 20.2, 22. , 23. , 20.7, 12.5, 48.5,\n",
       "         14.6, 13.4, 23.7, 50. , 21.7, 39.8, 38.7, 22.2, 34.9, 22.5, 31.1,\n",
       "         28.7, 46. , 41.7, 21. , 26.6, 15. , 24.4, 13.3, 21.2, 11.7, 21.7,\n",
       "         19.4, 50. , 22.8, 19.7, 24.7, 36.2, 14.2, 18.9, 18.3, 20.6, 24.6,\n",
       "         18.2,  8.7, 44. , 10.4, 13.2, 21.2, 37. , 30.7, 22.9, 20. , 19.3,\n",
       "         31.7, 32. , 23.1, 18.8, 10.9, 50. , 19.6,  5. , 14.4, 19.8, 13.8,\n",
       "         19.6, 23.9, 24.5, 25. , 19.9, 17.2, 24.6, 13.5, 26.6, 21.4, 11.9,\n",
       "         22.6, 19.6,  8.5, 23.7, 23.1, 22.4, 20.5, 23.6, 18.4, 35.2, 23.1,\n",
       "         27.9, 20.6, 23.7, 28. , 13.6, 27.1, 23.6, 20.6, 18.2, 21.7, 17.1,\n",
       "          8.4, 25.3, 13.8, 22.2, 18.4, 20.7, 31.6, 30.5, 20.3,  8.8, 19.2,\n",
       "         19.4, 23.1, 23. , 14.8, 48.8, 22.6, 33.4, 21.1, 13.6, 32.2, 13.1,\n",
       "         23.4, 18.9, 23.9, 11.8, 23.3, 22.8, 19.6, 16.7, 13.4, 22.2, 20.4,\n",
       "         21.8, 26.4, 14.9, 24.1, 23.8, 12.3, 29.1, 21. , 19.5, 23.3, 23.8,\n",
       "         17.8, 11.5, 21.7, 19.9, 25. , 33.4, 28.5, 21.4, 24.3, 27.5, 33.1,\n",
       "         16.2, 23.3, 48.3, 22.9, 22.8, 13.1, 12.7, 22.6, 15. , 15.3, 10.5,\n",
       "         24. , 18.5, 21.7, 19.5, 33.2, 23.2,  5. , 19.1, 12.7, 22.3, 10.2,\n",
       "         13.9, 16.3, 17. , 20.1, 29.9, 17.2, 37.3, 45.4, 17.8, 23.2, 29. ,\n",
       "         22. , 18. , 17.4, 34.6, 20.1, 25. , 15.6, 24.8, 28.2, 21.2, 21.4,\n",
       "         23.8, 31. , 26.2, 17.4, 37.9, 17.5, 20. ,  8.3, 23.9,  8.4, 13.8,\n",
       "          7.2, 11.7, 17.1, 21.6, 50. , 16.1, 20.4, 20.6, 21.4, 20.6, 36.5,\n",
       "          8.5, 24.8, 10.8, 21.9, 17.3, 18.9, 36.2, 14.9, 18.2, 33.3, 21.8,\n",
       "         19.7, 31.6, 24.8, 19.4, 22.8,  7.5, 44.8, 16.8, 18.7, 50. , 50. ,\n",
       "         19.5, 20.1, 50. , 17.2, 20.8, 19.3, 41.3, 20.4, 20.5, 13.8, 16.5,\n",
       "         23.9, 20.6, 31.5, 23.3, 16.8, 14. , 33.8, 36.1, 12.8, 18.3, 18.7,\n",
       "         19.1, 29. , 30.1, 50. , 50. , 22. , 11.9, 37.6, 50. , 22.7, 20.8,\n",
       "         23.5, 27.9, 50. , 19.3, 23.9, 22.6, 15.2, 21.7, 19.2, 43.8, 20.3,\n",
       "         33.2, 19.9, 22.5, 32.7, 22. , 17.1, 19. , 15. , 16.1, 25.1, 23.7,\n",
       "         28.7, 37.2, 22.6, 16.4, 25. , 29.8, 22.1, 17.4, 18.1, 30.3, 17.5,\n",
       "         24.7, 12.6, 26.5, 28.7, 13.3, 10.4, 24.4, 23. , 20. , 17.8,  7. ,\n",
       "         11.8, 24.4, 13.8, 19.4, 25.2, 19.4, 19.4, 29.1])),\n",
       " (array([[1.80846e+01, 0.00000e+00, 1.81000e+01, ..., 2.02000e+01,\n",
       "          2.72500e+01, 2.90500e+01],\n",
       "         [1.23290e-01, 0.00000e+00, 1.00100e+01, ..., 1.78000e+01,\n",
       "          3.94950e+02, 1.62100e+01],\n",
       "         [5.49700e-02, 0.00000e+00, 5.19000e+00, ..., 2.02000e+01,\n",
       "          3.96900e+02, 9.74000e+00],\n",
       "         ...,\n",
       "         [1.83377e+00, 0.00000e+00, 1.95800e+01, ..., 1.47000e+01,\n",
       "          3.89610e+02, 1.92000e+00],\n",
       "         [3.58090e-01, 0.00000e+00, 6.20000e+00, ..., 1.74000e+01,\n",
       "          3.91700e+02, 9.71000e+00],\n",
       "         [2.92400e+00, 0.00000e+00, 1.95800e+01, ..., 1.47000e+01,\n",
       "          2.40160e+02, 9.81000e+00]]),\n",
       "  array([ 7.2, 18.8, 19. , 27. , 22.2, 24.5, 31.2, 22.9, 20.5, 23.2, 18.6,\n",
       "         14.5, 17.8, 50. , 20.8, 24.3, 24.2, 19.8, 19.1, 22.7, 12. , 10.2,\n",
       "         20. , 18.5, 20.9, 23. , 27.5, 30.1,  9.5, 22. , 21.2, 14.1, 33.1,\n",
       "         23.4, 20.1,  7.4, 15.4, 23.8, 20.1, 24.5, 33. , 28.4, 14.1, 46.7,\n",
       "         32.5, 29.6, 28.4, 19.8, 20.2, 25. , 35.4, 20.3,  9.7, 14.5, 34.9,\n",
       "         26.6,  7.2, 50. , 32.4, 21.6, 29.8, 13.1, 27.5, 21.2, 23.1, 21.9,\n",
       "         13. , 23.2,  8.1,  5.6, 21.7, 29.6, 19.6,  7. , 26.4, 18.9, 20.9,\n",
       "         28.1, 35.4, 10.2, 24.3, 43.1, 17.6, 15.4, 16.2, 27.1, 21.4, 21.5,\n",
       "         22.4, 25. , 16.6, 18.6, 22. , 42.8, 35.1, 21.5, 36. , 21.9, 24.1,\n",
       "         50. , 26.7, 25. ])))"
      ]
     },
     "execution_count": 7,
     "metadata": {},
     "output_type": "execute_result"
    }
   ],
   "source": [
    "df = boston_housing.load_data()\n",
    "df"
   ]
  },
  {
   "cell_type": "code",
   "execution_count": 8,
   "id": "6f54fddd",
   "metadata": {},
   "outputs": [
    {
     "ename": "AttributeError",
     "evalue": "'tuple' object has no attribute 'keys'",
     "output_type": "error",
     "traceback": [
      "\u001b[1;31m---------------------------------------------------------------------------\u001b[0m",
      "\u001b[1;31mAttributeError\u001b[0m                            Traceback (most recent call last)",
      "Cell \u001b[1;32mIn[8], line 1\u001b[0m\n\u001b[1;32m----> 1\u001b[0m \u001b[43mdf\u001b[49m\u001b[38;5;241;43m.\u001b[39;49m\u001b[43mkeys\u001b[49m()\n",
      "\u001b[1;31mAttributeError\u001b[0m: 'tuple' object has no attribute 'keys'"
     ]
    }
   ],
   "source": [
    "df.keys()"
   ]
  },
  {
   "cell_type": "code",
   "execution_count": 9,
   "id": "c664161b",
   "metadata": {
    "colab": {
     "base_uri": "https://localhost:8080/"
    },
    "executionInfo": {
     "elapsed": 893,
     "status": "ok",
     "timestamp": 1685034562446,
     "user": {
      "displayName": "TE_B_52_Siddesh Patankar",
      "userId": "08734077620444832225"
     },
     "user_tz": -330
    },
    "id": "c664161b",
    "outputId": "0c44ac14-0469-49e6-cc25-5d87784fc127"
   },
   "outputs": [
    {
     "name": "stdout",
     "output_type": "stream",
     "text": [
      "train shape:  (404, 13)\n",
      "test shape:  (102, 13)\n",
      "actual train output: (404,)\n",
      "actual test output: (102,)\n"
     ]
    }
   ],
   "source": [
    "print(\"train shape: \",train_x.shape)\n",
    "print(\"test shape: \",test_x.shape)\n",
    "print(\"actual train output:\",train_y.shape)\n",
    "print(\"actual test output:\",test_y.shape)"
   ]
  },
  {
   "cell_type": "code",
   "execution_count": 10,
   "id": "3e6cd10e",
   "metadata": {
    "executionInfo": {
     "elapsed": 1321,
     "status": "ok",
     "timestamp": 1685034323579,
     "user": {
      "displayName": "TE_B_52_Siddesh Patankar",
      "userId": "08734077620444832225"
     },
     "user_tz": -330
    },
    "id": "3e6cd10e"
   },
   "outputs": [],
   "source": [
    "#normalization for preprocessing\n",
    "train_x=preprocessing.normalize(train_x)\n",
    "test_x=preprocessing.normalize(test_x)"
   ]
  },
  {
   "cell_type": "code",
   "execution_count": 15,
   "id": "c1c3fcb3",
   "metadata": {
    "executionInfo": {
     "elapsed": 524,
     "status": "ok",
     "timestamp": 1685037582134,
     "user": {
      "displayName": "TE_B_52_Siddesh Patankar",
      "userId": "08734077620444832225"
     },
     "user_tz": -330
    },
    "id": "c1c3fcb3"
   },
   "outputs": [],
   "source": [
    "# from tensorflow.python import metrics\n",
    "from tensorflow.keras.models import Sequential\n",
    "from tensorflow.keras.layers import *\n",
    "def HousePricePredictionModel():  \n",
    "\tmodel=Sequential()\n",
    "\tmodel.add(Dense(128,activation='relu',input_shape=(train_x[0].shape)))\n",
    "\tmodel.add(Dense(64,activation='relu'))\n",
    "\tmodel.add(Dense(32,activation='relu'))\n",
    "\tmodel.add(Dense(1))\n",
    "\tmodel.compile(optimizer='adam',loss='mse',metrics=['mae'])\n",
    "\treturn model"
   ]
  },
  {
   "cell_type": "code",
   "execution_count": 16,
   "id": "d55cfd2b",
   "metadata": {
    "executionInfo": {
     "elapsed": 4,
     "status": "ok",
     "timestamp": 1685037584754,
     "user": {
      "displayName": "TE_B_52_Siddesh Patankar",
      "userId": "08734077620444832225"
     },
     "user_tz": -330
    },
    "id": "d55cfd2b"
   },
   "outputs": [],
   "source": [
    "import numpy as np\n",
    "k=4\n",
    "num_val_samples=len(train_x)\n",
    "num_epochs=100\n",
    "all_scores=[]"
   ]
  },
  {
   "cell_type": "code",
   "execution_count": 17,
   "id": "d96f40b9",
   "metadata": {
    "colab": {
     "base_uri": "https://localhost:8080/"
    },
    "executionInfo": {
     "elapsed": 67695,
     "status": "ok",
     "timestamp": 1685037652446,
     "user": {
      "displayName": "TE_B_52_Siddesh Patankar",
      "userId": "08734077620444832225"
     },
     "user_tz": -330
    },
    "id": "d96f40b9",
    "outputId": "ba18ddb9-1810-41f6-9b3e-0ca7d08ba37a"
   },
   "outputs": [
    {
     "name": "stdout",
     "output_type": "stream",
     "text": [
      "Epoch 1/100\n",
      "404/404 [==============================] - 3s 4ms/step - loss: 148.5226 - mae: 8.6226 - val_loss: 69.0389 - val_mae: 5.8543\n",
      "Epoch 2/100\n",
      "404/404 [==============================] - 2s 4ms/step - loss: 68.0811 - mae: 5.7369 - val_loss: 58.3893 - val_mae: 5.6413\n",
      "Epoch 3/100\n",
      "404/404 [==============================] - 1s 4ms/step - loss: 61.1337 - mae: 5.4816 - val_loss: 56.2907 - val_mae: 5.4735\n",
      "Epoch 4/100\n",
      "404/404 [==============================] - 1s 3ms/step - loss: 59.4154 - mae: 5.3246 - val_loss: 62.3815 - val_mae: 5.5728\n",
      "Epoch 5/100\n",
      "404/404 [==============================] - 1s 3ms/step - loss: 57.2188 - mae: 5.3052 - val_loss: 52.6980 - val_mae: 5.3288\n",
      "Epoch 6/100\n",
      "404/404 [==============================] - 1s 3ms/step - loss: 55.3539 - mae: 5.1758 - val_loss: 54.6779 - val_mae: 5.2752\n",
      "Epoch 7/100\n",
      "404/404 [==============================] - 2s 4ms/step - loss: 52.8437 - mae: 4.9695 - val_loss: 53.3916 - val_mae: 5.5990\n",
      "Epoch 8/100\n",
      "404/404 [==============================] - 2s 4ms/step - loss: 53.2129 - mae: 4.9804 - val_loss: 51.3237 - val_mae: 5.0869\n",
      "Epoch 9/100\n",
      "404/404 [==============================] - 2s 4ms/step - loss: 51.6370 - mae: 4.8043 - val_loss: 47.5429 - val_mae: 4.9781\n",
      "Epoch 10/100\n",
      "404/404 [==============================] - 2s 4ms/step - loss: 48.8659 - mae: 4.7320 - val_loss: 49.3946 - val_mae: 4.9368\n",
      "Epoch 11/100\n",
      "404/404 [==============================] - 1s 4ms/step - loss: 47.2033 - mae: 4.6422 - val_loss: 47.1854 - val_mae: 5.2370\n",
      "Epoch 12/100\n",
      "404/404 [==============================] - 1s 3ms/step - loss: 45.3099 - mae: 4.5405 - val_loss: 42.5176 - val_mae: 4.7403\n",
      "Epoch 13/100\n",
      "404/404 [==============================] - 1s 3ms/step - loss: 43.0554 - mae: 4.4613 - val_loss: 40.8351 - val_mae: 4.5056\n",
      "Epoch 14/100\n",
      "404/404 [==============================] - 1s 3ms/step - loss: 41.3668 - mae: 4.4333 - val_loss: 40.2297 - val_mae: 4.3755\n",
      "Epoch 15/100\n",
      "404/404 [==============================] - 1s 3ms/step - loss: 39.8741 - mae: 4.2715 - val_loss: 37.7559 - val_mae: 4.4689\n",
      "Epoch 16/100\n",
      "404/404 [==============================] - 1s 3ms/step - loss: 37.0719 - mae: 4.1740 - val_loss: 43.2539 - val_mae: 4.5750\n",
      "Epoch 17/100\n",
      "404/404 [==============================] - 1s 3ms/step - loss: 36.0588 - mae: 4.1332 - val_loss: 37.8002 - val_mae: 4.8186\n",
      "Epoch 18/100\n",
      "404/404 [==============================] - 1s 3ms/step - loss: 35.1503 - mae: 4.1907 - val_loss: 33.3752 - val_mae: 3.9738\n",
      "Epoch 19/100\n",
      "404/404 [==============================] - 2s 4ms/step - loss: 33.1354 - mae: 3.9855 - val_loss: 32.4570 - val_mae: 4.2706\n",
      "Epoch 20/100\n",
      "404/404 [==============================] - 2s 4ms/step - loss: 33.4737 - mae: 4.1292 - val_loss: 29.7988 - val_mae: 4.0000\n",
      "Epoch 21/100\n",
      "404/404 [==============================] - 1s 4ms/step - loss: 30.6627 - mae: 4.0060 - val_loss: 30.2563 - val_mae: 4.1643\n",
      "Epoch 22/100\n",
      "404/404 [==============================] - 1s 4ms/step - loss: 29.5418 - mae: 3.8349 - val_loss: 40.9121 - val_mae: 4.4561\n",
      "Epoch 23/100\n",
      "404/404 [==============================] - 1s 4ms/step - loss: 30.4822 - mae: 3.9507 - val_loss: 32.5355 - val_mae: 3.9416\n",
      "Epoch 24/100\n",
      "404/404 [==============================] - 1s 3ms/step - loss: 28.1281 - mae: 3.7858 - val_loss: 29.1309 - val_mae: 3.7729\n",
      "Epoch 25/100\n",
      "404/404 [==============================] - 1s 3ms/step - loss: 26.1269 - mae: 3.7208 - val_loss: 38.6281 - val_mae: 5.2052\n",
      "Epoch 26/100\n",
      "404/404 [==============================] - 1s 4ms/step - loss: 24.9734 - mae: 3.6928 - val_loss: 33.3870 - val_mae: 4.0609\n",
      "Epoch 27/100\n",
      "404/404 [==============================] - 1s 3ms/step - loss: 24.9521 - mae: 3.5905 - val_loss: 29.4831 - val_mae: 3.7930\n",
      "Epoch 28/100\n",
      "404/404 [==============================] - 1s 3ms/step - loss: 25.6969 - mae: 3.6426 - val_loss: 30.7957 - val_mae: 3.9031\n",
      "Epoch 29/100\n",
      "404/404 [==============================] - 2s 4ms/step - loss: 25.0883 - mae: 3.6317 - val_loss: 37.6187 - val_mae: 4.2386\n",
      "Epoch 30/100\n",
      "404/404 [==============================] - 1s 4ms/step - loss: 22.1302 - mae: 3.4681 - val_loss: 29.8125 - val_mae: 4.2513\n",
      "Epoch 31/100\n",
      "404/404 [==============================] - 1s 4ms/step - loss: 21.3594 - mae: 3.3873 - val_loss: 29.3916 - val_mae: 3.7617\n",
      "Epoch 32/100\n",
      "404/404 [==============================] - 2s 4ms/step - loss: 20.5444 - mae: 3.3334 - val_loss: 31.6930 - val_mae: 3.9743\n",
      "Epoch 33/100\n",
      "404/404 [==============================] - 2s 5ms/step - loss: 19.5825 - mae: 3.2332 - val_loss: 27.6972 - val_mae: 3.7992\n",
      "Epoch 34/100\n",
      "404/404 [==============================] - 2s 4ms/step - loss: 20.0948 - mae: 3.1730 - val_loss: 29.1294 - val_mae: 3.7885\n",
      "Epoch 35/100\n",
      "404/404 [==============================] - 1s 3ms/step - loss: 20.0947 - mae: 3.2981 - val_loss: 32.3429 - val_mae: 4.0057\n",
      "Epoch 36/100\n",
      "404/404 [==============================] - 1s 4ms/step - loss: 19.6571 - mae: 3.3362 - val_loss: 27.4138 - val_mae: 3.6391\n",
      "Epoch 37/100\n",
      "404/404 [==============================] - 2s 4ms/step - loss: 20.1937 - mae: 3.2217 - val_loss: 28.9829 - val_mae: 3.7326\n",
      "Epoch 38/100\n",
      "404/404 [==============================] - 2s 4ms/step - loss: 16.9144 - mae: 3.0322 - val_loss: 30.6451 - val_mae: 3.8476\n",
      "Epoch 39/100\n",
      "404/404 [==============================] - 2s 4ms/step - loss: 18.6990 - mae: 3.1060 - val_loss: 28.4513 - val_mae: 3.7198\n",
      "Epoch 40/100\n",
      "404/404 [==============================] - 2s 4ms/step - loss: 17.5702 - mae: 3.0373 - val_loss: 31.2932 - val_mae: 3.9403\n",
      "Epoch 41/100\n",
      "404/404 [==============================] - 1s 4ms/step - loss: 19.6521 - mae: 3.1589 - val_loss: 35.2290 - val_mae: 4.3451\n",
      "Epoch 42/100\n",
      "404/404 [==============================] - 2s 4ms/step - loss: 18.8672 - mae: 3.1854 - val_loss: 44.6374 - val_mae: 4.9391\n",
      "Epoch 43/100\n",
      "404/404 [==============================] - 1s 4ms/step - loss: 17.8526 - mae: 3.1361 - val_loss: 32.5706 - val_mae: 3.9657\n",
      "Epoch 44/100\n",
      "404/404 [==============================] - 2s 4ms/step - loss: 18.3923 - mae: 3.1169 - val_loss: 29.1992 - val_mae: 3.7180\n",
      "Epoch 45/100\n",
      "404/404 [==============================] - 1s 4ms/step - loss: 17.0230 - mae: 3.0244 - val_loss: 29.7100 - val_mae: 3.7053\n",
      "Epoch 46/100\n",
      "404/404 [==============================] - 1s 3ms/step - loss: 17.2453 - mae: 2.9604 - val_loss: 43.4027 - val_mae: 4.6738\n",
      "Epoch 47/100\n",
      "404/404 [==============================] - 2s 4ms/step - loss: 17.3999 - mae: 3.0442 - val_loss: 38.9833 - val_mae: 4.4622\n",
      "Epoch 48/100\n",
      "404/404 [==============================] - 2s 4ms/step - loss: 16.2541 - mae: 2.9274 - val_loss: 30.4738 - val_mae: 3.7759\n",
      "Epoch 49/100\n",
      "404/404 [==============================] - 1s 4ms/step - loss: 16.3562 - mae: 2.9812 - val_loss: 34.9482 - val_mae: 4.1034\n",
      "Epoch 50/100\n",
      "404/404 [==============================] - 1s 3ms/step - loss: 17.5139 - mae: 3.0393 - val_loss: 43.8255 - val_mae: 4.8903\n",
      "Epoch 51/100\n",
      "404/404 [==============================] - 1s 3ms/step - loss: 17.4755 - mae: 3.0399 - val_loss: 31.5654 - val_mae: 3.8439\n",
      "Epoch 52/100\n",
      "404/404 [==============================] - 1s 3ms/step - loss: 18.7309 - mae: 3.0764 - val_loss: 32.9822 - val_mae: 3.9313\n",
      "Epoch 53/100\n",
      "404/404 [==============================] - 1s 3ms/step - loss: 16.7672 - mae: 3.0459 - val_loss: 34.3084 - val_mae: 4.1111\n",
      "Epoch 54/100\n",
      "404/404 [==============================] - 1s 3ms/step - loss: 17.7007 - mae: 2.9654 - val_loss: 29.6234 - val_mae: 3.7715\n",
      "Epoch 55/100\n",
      "404/404 [==============================] - 1s 4ms/step - loss: 17.5651 - mae: 3.0219 - val_loss: 30.4011 - val_mae: 3.7365\n",
      "Epoch 56/100\n",
      "404/404 [==============================] - 1s 4ms/step - loss: 15.2704 - mae: 2.8532 - val_loss: 28.0579 - val_mae: 3.6350\n",
      "Epoch 57/100\n",
      "404/404 [==============================] - 1s 3ms/step - loss: 17.3696 - mae: 3.0349 - val_loss: 29.7498 - val_mae: 3.6836\n",
      "Epoch 58/100\n",
      "404/404 [==============================] - 1s 4ms/step - loss: 16.3977 - mae: 2.8655 - val_loss: 33.1235 - val_mae: 4.0325\n",
      "Epoch 59/100\n",
      "404/404 [==============================] - 1s 4ms/step - loss: 16.0965 - mae: 2.8488 - val_loss: 27.7979 - val_mae: 3.5652\n",
      "Epoch 60/100\n",
      "404/404 [==============================] - 1s 3ms/step - loss: 16.9062 - mae: 2.9607 - val_loss: 27.4022 - val_mae: 3.5831\n",
      "Epoch 61/100\n"
     ]
    },
    {
     "name": "stdout",
     "output_type": "stream",
     "text": [
      "404/404 [==============================] - 1s 3ms/step - loss: 15.7657 - mae: 2.8876 - val_loss: 33.4287 - val_mae: 3.8957\n",
      "Epoch 62/100\n",
      "404/404 [==============================] - 1s 4ms/step - loss: 16.3619 - mae: 2.9002 - val_loss: 32.7212 - val_mae: 3.8085\n",
      "Epoch 63/100\n",
      "404/404 [==============================] - 2s 4ms/step - loss: 17.5434 - mae: 2.9983 - val_loss: 36.0340 - val_mae: 4.1682\n",
      "Epoch 64/100\n",
      "404/404 [==============================] - 1s 4ms/step - loss: 17.3278 - mae: 3.0339 - val_loss: 31.5096 - val_mae: 3.8340\n",
      "Epoch 65/100\n",
      "404/404 [==============================] - 2s 4ms/step - loss: 15.5485 - mae: 2.9272 - val_loss: 28.1768 - val_mae: 3.6400\n",
      "Epoch 66/100\n",
      "404/404 [==============================] - 2s 5ms/step - loss: 16.7543 - mae: 2.9393 - val_loss: 29.1000 - val_mae: 3.6689\n",
      "Epoch 67/100\n",
      "404/404 [==============================] - 2s 4ms/step - loss: 16.3491 - mae: 2.9778 - val_loss: 30.3169 - val_mae: 3.7803\n",
      "Epoch 68/100\n",
      "404/404 [==============================] - 2s 4ms/step - loss: 16.2958 - mae: 2.8937 - val_loss: 30.5995 - val_mae: 3.7946\n",
      "Epoch 69/100\n",
      "404/404 [==============================] - 1s 3ms/step - loss: 15.4553 - mae: 2.8975 - val_loss: 28.8083 - val_mae: 3.7107\n",
      "Epoch 70/100\n",
      "404/404 [==============================] - 1s 3ms/step - loss: 16.8680 - mae: 2.9750 - val_loss: 28.1983 - val_mae: 3.6108\n",
      "Epoch 71/100\n",
      "404/404 [==============================] - 1s 3ms/step - loss: 16.1826 - mae: 2.8951 - val_loss: 29.2358 - val_mae: 3.6353\n",
      "Epoch 72/100\n",
      "404/404 [==============================] - 1s 3ms/step - loss: 16.7598 - mae: 2.9393 - val_loss: 36.6179 - val_mae: 4.1862\n",
      "Epoch 73/100\n",
      "404/404 [==============================] - 1s 4ms/step - loss: 17.0064 - mae: 2.9363 - val_loss: 26.7594 - val_mae: 3.5287\n",
      "Epoch 74/100\n",
      "404/404 [==============================] - 1s 3ms/step - loss: 16.7209 - mae: 2.8838 - val_loss: 28.5330 - val_mae: 3.6470\n",
      "Epoch 75/100\n",
      "404/404 [==============================] - 1s 3ms/step - loss: 15.0857 - mae: 2.7859 - val_loss: 36.9565 - val_mae: 4.0382\n",
      "Epoch 76/100\n",
      "404/404 [==============================] - 1s 3ms/step - loss: 15.7379 - mae: 2.8350 - val_loss: 31.8737 - val_mae: 3.8451\n",
      "Epoch 77/100\n",
      "404/404 [==============================] - 1s 3ms/step - loss: 15.5086 - mae: 2.8124 - val_loss: 30.2689 - val_mae: 3.6718\n",
      "Epoch 78/100\n",
      "404/404 [==============================] - 2s 4ms/step - loss: 16.4752 - mae: 2.8449 - val_loss: 28.7424 - val_mae: 3.6258\n",
      "Epoch 79/100\n",
      "404/404 [==============================] - 2s 4ms/step - loss: 15.8554 - mae: 2.8646 - val_loss: 29.4020 - val_mae: 3.6217\n",
      "Epoch 80/100\n",
      "404/404 [==============================] - 2s 4ms/step - loss: 15.4840 - mae: 2.8648 - val_loss: 30.6009 - val_mae: 3.7836\n",
      "Epoch 81/100\n",
      "404/404 [==============================] - 2s 4ms/step - loss: 16.0416 - mae: 2.8783 - val_loss: 28.3975 - val_mae: 3.5581\n",
      "Epoch 82/100\n",
      "404/404 [==============================] - 1s 4ms/step - loss: 15.6454 - mae: 2.7681 - val_loss: 36.9600 - val_mae: 4.2524\n",
      "Epoch 83/100\n",
      "404/404 [==============================] - 1s 3ms/step - loss: 14.8688 - mae: 2.8315 - val_loss: 31.6119 - val_mae: 3.9404\n",
      "Epoch 84/100\n",
      "404/404 [==============================] - 1s 3ms/step - loss: 14.8091 - mae: 2.7851 - val_loss: 36.7941 - val_mae: 4.2031\n",
      "Epoch 85/100\n",
      "404/404 [==============================] - 2s 4ms/step - loss: 15.8867 - mae: 2.8730 - val_loss: 26.5937 - val_mae: 3.5171\n",
      "Epoch 86/100\n",
      "404/404 [==============================] - 1s 3ms/step - loss: 15.6210 - mae: 2.7763 - val_loss: 35.3809 - val_mae: 4.0192\n",
      "Epoch 87/100\n",
      "404/404 [==============================] - 2s 4ms/step - loss: 14.6713 - mae: 2.7305 - val_loss: 29.3509 - val_mae: 3.6970\n",
      "Epoch 88/100\n",
      "404/404 [==============================] - 1s 3ms/step - loss: 15.9254 - mae: 2.8814 - val_loss: 31.5028 - val_mae: 3.7659\n",
      "Epoch 89/100\n",
      "404/404 [==============================] - 1s 3ms/step - loss: 15.6896 - mae: 2.9242 - val_loss: 29.9940 - val_mae: 3.6770\n",
      "Epoch 90/100\n",
      "404/404 [==============================] - 2s 4ms/step - loss: 14.2192 - mae: 2.7283 - val_loss: 35.3546 - val_mae: 4.0586\n",
      "Epoch 91/100\n",
      "404/404 [==============================] - 2s 4ms/step - loss: 14.3943 - mae: 2.8278 - val_loss: 27.5501 - val_mae: 3.5517\n",
      "Epoch 92/100\n",
      "404/404 [==============================] - 1s 4ms/step - loss: 14.8132 - mae: 2.7663 - val_loss: 29.3739 - val_mae: 3.8501\n",
      "Epoch 93/100\n",
      "404/404 [==============================] - 1s 3ms/step - loss: 16.3151 - mae: 2.9694 - val_loss: 30.8232 - val_mae: 3.7483\n",
      "Epoch 94/100\n",
      "404/404 [==============================] - 1s 3ms/step - loss: 14.2371 - mae: 2.7639 - val_loss: 29.5402 - val_mae: 3.6609\n",
      "Epoch 95/100\n",
      "404/404 [==============================] - 1s 3ms/step - loss: 15.1995 - mae: 2.8517 - val_loss: 29.8675 - val_mae: 3.6847\n",
      "Epoch 96/100\n",
      "404/404 [==============================] - 1s 3ms/step - loss: 16.5775 - mae: 2.9466 - val_loss: 33.7704 - val_mae: 3.8838\n",
      "Epoch 97/100\n",
      "404/404 [==============================] - 1s 4ms/step - loss: 16.0999 - mae: 2.9060 - val_loss: 29.7633 - val_mae: 3.9530\n",
      "Epoch 98/100\n",
      "404/404 [==============================] - 1s 3ms/step - loss: 14.2901 - mae: 2.7604 - val_loss: 33.8390 - val_mae: 3.8649\n",
      "Epoch 99/100\n",
      "404/404 [==============================] - 1s 3ms/step - loss: 15.3947 - mae: 2.8220 - val_loss: 34.2831 - val_mae: 4.0300\n",
      "Epoch 100/100\n",
      "404/404 [==============================] - 1s 3ms/step - loss: 13.6284 - mae: 2.6144 - val_loss: 31.7763 - val_mae: 3.7348\n"
     ]
    }
   ],
   "source": [
    "model= HousePricePredictionModel()\n",
    "history=model.fit(x=train_x,y=train_y,epochs=num_epochs,batch_size=1,verbose=1,validation_data=(test_x,test_y))"
   ]
  },
  {
   "cell_type": "code",
   "execution_count": 18,
   "id": "ddfaa157",
   "metadata": {
    "colab": {
     "base_uri": "https://localhost:8080/"
    },
    "executionInfo": {
     "elapsed": 508,
     "status": "ok",
     "timestamp": 1685034841993,
     "user": {
      "displayName": "TE_B_52_Siddesh Patankar",
      "userId": "08734077620444832225"
     },
     "user_tz": -330
    },
    "id": "ddfaa157",
    "outputId": "12b80eb5-5bc6-41dd-af2b-04d17a578bad"
   },
   "outputs": [
    {
     "name": "stdout",
     "output_type": "stream",
     "text": [
      "4/4 [==============================] - 0s 7ms/step - loss: 31.7763 - mae: 3.7348\n",
      "Mean squared error on test data:  31.77625274658203\n",
      "Mean absolute error on test data:  3.734800338745117\n"
     ]
    }
   ],
   "source": [
    "mse, mae = model.evaluate(test_x, test_y)\n",
    "print('Mean squared error on test data: ', mse)\n",
    "print('Mean absolute error on test data: ', mae)"
   ]
  },
  {
   "cell_type": "code",
   "execution_count": 20,
   "id": "2c35b267",
   "metadata": {
    "colab": {
     "background_save": true
    },
    "id": "2c35b267"
   },
   "outputs": [
    {
     "name": "stdout",
     "output_type": "stream",
     "text": [
      "4/4 [==============================] - 0s 3ms/step\n"
     ]
    }
   ],
   "source": [
    "y_pred = model.predict(test_x)"
   ]
  },
  {
   "cell_type": "code",
   "execution_count": 25,
   "id": "12ab9568",
   "metadata": {
    "colab": {
     "background_save": true
    },
    "id": "12ab9568"
   },
   "outputs": [
    {
     "data": {
      "text/plain": [
       "<matplotlib.collections.PathCollection at 0x20a09281bd0>"
      ]
     },
     "execution_count": 25,
     "metadata": {},
     "output_type": "execute_result"
    },
    {
     "data": {
      "image/png": "[encoded data removed]",
      "text/plain": [
       "<Figure size 640x480 with 1 Axes>"
      ]
     },
     "metadata": {},
     "output_type": "display_data"
    }
   ],
   "source": [
    "plt.scatter(test_y, y_pred)"
   ]
  },
  {
   "cell_type": "code",
   "execution_count": null,
   "id": "a0ef990b",
   "metadata": {},
   "outputs": [],
   "source": []
  }
 ],
 "metadata": {
  "colab": {
   "provenance": []
  },
  "kernelspec": {
   "display_name": "Python 3 (ipykernel)",
   "language": "python",
   "name": "python3"
  },
  "language_info": {
   "codemirror_mode": {
    "name": "ipython",
    "version": 3
   },
   "file_extension": ".py",
   "mimetype": "text/x-python",
   "name": "python",
   "nbconvert_exporter": "python",
   "pygments_lexer": "ipython3",
   "version": "3.10.6"
  }
 },
 "nbformat": 4,
 "nbformat_minor": 5
}
